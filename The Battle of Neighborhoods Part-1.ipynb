{
 "cells": [
  {
   "cell_type": "markdown",
   "metadata": {},
   "source": [
    "# Applied Data Science - Capstone Project"
   ]
  },
  {
   "cell_type": "markdown",
   "metadata": {},
   "source": [
    "## 1) Introduction"
   ]
  },
  {
   "cell_type": "markdown",
   "metadata": {},
   "source": [
    "München Hauptbahnhof (German for Munich Central Station) is the main railway station in the city of Munich, Germany. It is one of the three stations with long-distance services in Munich, the others being München Ost and München-Pasing. München Hauptbahnhof sees about 450,000 passengers a day, which puts it on par with other large stations in Germany, such as Hamburg Hauptbahnhof and Frankfurt (Main) Hauptbahnhof. It is classified by Deutsche Bahn as a category 1 station, one of 21 in Germany and two in Munich.The mainline station is a terminal station with 32 platforms. The subterranean S-Bahn with 2 platforms and U-Bahn stations with 6 platforms are through stations.\n",
    "\n",
    "Train stations are ideal locations for small businesses to set up shops, because they are hubs of humber interatction where hundreds or even thousands of people day and night come and go. Each person in this flow of foot traffic is a potential customer who might need a specific item or purchase on impulse while waiting for a train. To succeed with retail at a train station, one must provide an accessible and affordable shopping experience offering merchandise of services that travelers might not quickly find elsewhere enroute while travelling. "
   ]
  },
  {
   "cell_type": "markdown",
   "metadata": {},
   "source": [
    "## 2) Downloading and Preparing Data"
   ]
  },
  {
   "cell_type": "markdown",
   "metadata": {},
   "source": [
    "The venue data will be mainly retrived from FousSquare API based on some general location data obtained after web scraping and geocoding. "
   ]
  },
  {
   "cell_type": "markdown",
   "metadata": {},
   "source": [
    "## 3) Methodology"
   ]
  },
  {
   "cell_type": "markdown",
   "metadata": {},
   "source": [
    "A thorough analysis of the principles of methods, rules, and postulates emplyed will be made to get the analysis as accurate as possible. It will use K-means clusering to group stores and making anysis out of it. "
   ]
  },
  {
   "cell_type": "markdown",
   "metadata": {},
   "source": [
    "## 4) Results"
   ]
  },
  {
   "cell_type": "markdown",
   "metadata": {},
   "source": [
    "The neighbourhoods are divided into n clusters where n is the number of clusers found using the optimal approach. The clustered neighbourhoods are visualized using different colours so as to make them distinguishable. "
   ]
  },
  {
   "cell_type": "markdown",
   "metadata": {},
   "source": [
    "## 5) Discussion"
   ]
  },
  {
   "cell_type": "markdown",
   "metadata": {},
   "source": [
    "During the implemention, it is found that it's not easy to find the most suitable cluster number to solve the problem of finding a cluster with common venue as a train station mentioned before. "
   ]
  },
  {
   "cell_type": "markdown",
   "metadata": {},
   "source": [
    "## 6) Conclusion"
   ]
  },
  {
   "cell_type": "markdown",
   "metadata": {},
   "source": [
    "As the middle class will grow at a rapid rate in the next upcoming years, opening food outlets catered for that section of the society will see  massive increase, which would lead to a further increase in business. "
   ]
  },
  {
   "cell_type": "code",
   "execution_count": null,
   "metadata": {},
   "outputs": [],
   "source": []
  }
 ],
 "metadata": {
  "kernelspec": {
   "display_name": "Python 3",
   "language": "python",
   "name": "python3"
  },
  "language_info": {
   "codemirror_mode": {
    "name": "ipython",
    "version": 3
   },
   "file_extension": ".py",
   "mimetype": "text/x-python",
   "name": "python",
   "nbconvert_exporter": "python",
   "pygments_lexer": "ipython3",
   "version": "3.7.3"
  }
 },
 "nbformat": 4,
 "nbformat_minor": 2
}
